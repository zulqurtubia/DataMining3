{
  "nbformat": 4,
  "nbformat_minor": 0,
  "metadata": {
    "colab": {
      "name": "PreprocessingData.ipynb",
      "provenance": [],
      "authorship_tag": "ABX9TyOMADaTmlIn7LKoaEGHvonc",
      "include_colab_link": true
    },
    "kernelspec": {
      "name": "python3",
      "display_name": "Python 3"
    }
  },
  "cells": [
    {
      "cell_type": "markdown",
      "metadata": {
        "id": "view-in-github",
        "colab_type": "text"
      },
      "source": [
        "<a href=\"https://colab.research.google.com/github/zulqurtubia/DataMining3/blob/main/PreprocessingData.ipynb\" target=\"_parent\"><img src=\"https://colab.research.google.com/assets/colab-badge.svg\" alt=\"Open In Colab\"/></a>"
      ]
    },
    {
      "cell_type": "code",
      "metadata": {
        "id": "QSPE2mNdMdLL"
      },
      "source": [
        "import numpy as np\n",
        "import matplotlib.pyplot as plt\n",
        "import pandas as pd\n",
        "import chardet"
      ],
      "execution_count": null,
      "outputs": []
    },
    {
      "cell_type": "markdown",
      "metadata": {
        "id": "UQVhoWVGQHlz"
      },
      "source": [
        "Numpy digunakan untuk komputasi numerik\n",
        "\n",
        "matplotlib digunakan untuk grafik/\n",
        "\n",
        "plotingPandas digunakan untuk memanggil file external dari csv, xlsx,txt, dll\n"
      ]
    },
    {
      "cell_type": "code",
      "metadata": {
        "colab": {
          "base_uri": "https://localhost:8080/"
        },
        "id": "dhQpNdKWz8gF",
        "outputId": "14cc4121-ea6d-41fc-a37d-e48cc059df9b"
      },
      "source": [
        "dataset = pd.read_csv('Data.csv')\n",
        "x = dataset.iloc[:, :-1].values\n",
        "y = dataset.iloc[:, -1].values\n",
        "print(x)\n",
        "print(y)"
      ],
      "execution_count": null,
      "outputs": [
        {
          "output_type": "stream",
          "text": [
            "[['Nanta' 44.0 72000.0]\n",
            " ['Aku' 27.0 48000.0]\n",
            " ['Saya' 30.0 54000.0]\n",
            " ['Admin' 38.0 61000.0]\n",
            " ['Kambing' 40.0 nan]\n",
            " ['Rudi' 35.0 58000.0]\n",
            " ['Soojin' nan 52000.0]\n",
            " ['Jihan' 48.0 79000.0]\n",
            " ['Leni' 50.0 83000.0]\n",
            " ['Ningnig' 37.0 67000.0]]\n",
            "['No' 'Yes' 'No' 'No' 'Yes' 'Yes' 'No' 'Yes' 'No' 'Yes']\n"
          ],
          "name": "stdout"
        }
      ]
    },
    {
      "cell_type": "code",
      "metadata": {
        "colab": {
          "base_uri": "https://localhost:8080/"
        },
        "id": "pc1QcUsqz_r3",
        "outputId": "ae4c4097-06f8-49fe-e3c2-01167422208e"
      },
      "source": [
        "print(x)"
      ],
      "execution_count": null,
      "outputs": [
        {
          "output_type": "stream",
          "text": [
            "[['Nanta' 44.0 72000.0]\n",
            " ['Aku' 27.0 48000.0]\n",
            " ['Saya' 30.0 54000.0]\n",
            " ['Admin' 38.0 61000.0]\n",
            " ['Kambing' 40.0 nan]\n",
            " ['Rudi' 35.0 58000.0]\n",
            " ['Soojin' nan 52000.0]\n",
            " ['Jihan' 48.0 79000.0]\n",
            " ['Leni' 50.0 83000.0]\n",
            " ['Ningnig' 37.0 67000.0]]\n"
          ],
          "name": "stdout"
        }
      ]
    },
    {
      "cell_type": "code",
      "metadata": {
        "colab": {
          "base_uri": "https://localhost:8080/"
        },
        "id": "sxy86Ipd0By2",
        "outputId": "16a082f1-48e8-4cb8-a456-f140ea19edde"
      },
      "source": [
        "print(y)"
      ],
      "execution_count": null,
      "outputs": [
        {
          "output_type": "stream",
          "text": [
            "['No' 'Yes' 'No' 'No' 'Yes' 'Yes' 'No' 'Yes' 'No' 'Yes']\n"
          ],
          "name": "stdout"
        }
      ]
    },
    {
      "cell_type": "code",
      "metadata": {
        "id": "anqRwHBJ0GKa"
      },
      "source": [
        "from sklearn.impute import SimpleImputer\n",
        "imputer = SimpleImputer(missing_values=np.nan, strategy='mean')\n",
        "imputer.fit(x[:, 1:3])\n",
        "x[:, 1:3] = imputer.transform(x[:, 1:3])"
      ],
      "execution_count": null,
      "outputs": []
    },
    {
      "cell_type": "code",
      "metadata": {
        "colab": {
          "base_uri": "https://localhost:8080/"
        },
        "id": "mQLkh-ZG0IR4",
        "outputId": "c3923678-7e26-41d6-e781-b8b0ba4d1534"
      },
      "source": [
        "print(x)"
      ],
      "execution_count": null,
      "outputs": [
        {
          "output_type": "stream",
          "text": [
            "[['Nanta' 44.0 72000.0]\n",
            " ['Aku' 27.0 48000.0]\n",
            " ['Saya' 30.0 54000.0]\n",
            " ['Admin' 38.0 61000.0]\n",
            " ['Kambing' 40.0 nan]\n",
            " ['Rudi' 35.0 58000.0]\n",
            " ['Soojin' nan 52000.0]\n",
            " ['Jihan' 48.0 79000.0]\n",
            " ['Leni' 50.0 83000.0]\n",
            " ['Ningnig' 37.0 67000.0]]\n"
          ],
          "name": "stdout"
        }
      ]
    },
    {
      "cell_type": "code",
      "metadata": {
        "id": "Xuk7I97R0MHD"
      },
      "source": [
        "from sklearn.compose import ColumnTransformer \n",
        "from sklearn.preprocessing import OneHotEncoder\n",
        "ct =  ColumnTransformer(transformers=[('encoder', OneHotEncoder(), [0])], remainder='passthrough')\n",
        "x = np.array(ct.fit_transform(x))"
      ],
      "execution_count": null,
      "outputs": []
    },
    {
      "cell_type": "code",
      "metadata": {
        "id": "-qDAteHA0OrV",
        "colab": {
          "base_uri": "https://localhost:8080/"
        },
        "outputId": "cb399743-c038-4079-b309-41baaef175db"
      },
      "source": [
        "print(x)"
      ],
      "execution_count": null,
      "outputs": [
        {
          "output_type": "stream",
          "text": [
            "[['Nanta' 44.0 72000.0]\n",
            " ['Aku' 27.0 48000.0]\n",
            " ['Saya' 30.0 54000.0]\n",
            " ['Admin' 38.0 61000.0]\n",
            " ['Kambing' 40.0 nan]\n",
            " ['Rudi' 35.0 58000.0]\n",
            " ['Soojin' nan 52000.0]\n",
            " ['Jihan' 48.0 79000.0]\n",
            " ['Leni' 50.0 83000.0]\n",
            " ['Ningnig' 37.0 67000.0]]\n"
          ],
          "name": "stdout"
        }
      ]
    }
  ]
}