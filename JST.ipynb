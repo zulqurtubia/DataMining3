{
  "nbformat": 4,
  "nbformat_minor": 0,
  "metadata": {
    "colab": {
      "name": "JST.ipynb",
      "provenance": [],
      "authorship_tag": "ABX9TyMiWiRSAN1yKKRZtt+nOufC",
      "include_colab_link": true
    },
    "kernelspec": {
      "name": "python3",
      "display_name": "Python 3"
    },
    "language_info": {
      "name": "python"
    }
  },
  "cells": [
    {
      "cell_type": "markdown",
      "metadata": {
        "id": "view-in-github",
        "colab_type": "text"
      },
      "source": [
        "<a href=\"https://colab.research.google.com/github/zulqurtubia/DataMining3/blob/main/JST.ipynb\" target=\"_parent\"><img src=\"https://colab.research.google.com/assets/colab-badge.svg\" alt=\"Open In Colab\"/></a>"
      ]
    },
    {
      "cell_type": "code",
      "metadata": {
        "id": "enMwmCzBEsLh"
      },
      "source": [
        "import numpy as np\n",
        "import matplotlib.pyplot as plt\n",
        "import seaborn as sns"
      ],
      "execution_count": 1,
      "outputs": []
    },
    {
      "cell_type": "code",
      "metadata": {
        "id": "ZmSbKoz1E6ny"
      },
      "source": [
        "def Perceptron(x_unit,t,max_epoch,learning_rate=1,threshold=0):\n",
        "    # Step 0\n",
        "    w = np.zeros(x_unit.shape[1])\n",
        "    b = 0\n",
        "    epoch = 1\n",
        "    \n",
        "    # Step 1\n",
        "    while epoch < max_epoch:\n",
        "        stop = True\n",
        "        # Step 2\n",
        "        for i in range(x_unit.shape[0]):\n",
        "            # Step 3 adalah x_unit\n",
        "            # Step 4\n",
        "            y_in = b + sum(x_unit[i,:]*w)\n",
        "            if y_in > threshold:\n",
        "                y = 1\n",
        "            elif y_in < -threshold:\n",
        "                y = -1\n",
        "            else:\n",
        "                y = 0\n",
        "                \n",
        "            temp_w = np.copy(w)\n",
        "            temp_b = np.copy(b)\n",
        "            \n",
        "            # Step 5\n",
        "            if y != t[i]:\n",
        "                w += learning_rate*t[i]*x_unit[i,:]\n",
        "                b += learning_rate*t[i]\n",
        "                \n",
        "            dw = w - temp_w\n",
        "            db = b - temp_b\n",
        "            \n",
        "            if (not np.array_equal(dw,np.zeros(dw.shape))) or (db!=0):\n",
        "                stop = False\n",
        "        # Step 6\n",
        "        if stop:\n",
        "            break\n",
        "            \n",
        "        epoch += 1\n",
        "    return w,b"
      ],
      "execution_count": 2,
      "outputs": []
    },
    {
      "cell_type": "code",
      "metadata": {
        "id": "-hSpVonqFP5g"
      },
      "source": [
        "def PredictPerceptron(x_input,weight,bias,threshold=0):\n",
        "    y_in = bias + sum(x_input*weight)\n",
        "    \n",
        "    if y_in > threshold:\n",
        "        y = 1\n",
        "    elif y_in < -threshold:\n",
        "        y = -1\n",
        "    else:\n",
        "        y = 0\n",
        "    return y"
      ],
      "execution_count": 3,
      "outputs": []
    },
    {
      "cell_type": "code",
      "metadata": {
        "id": "z1NiF0pCFTTJ"
      },
      "source": [
        "def PlotPerceptron(x_unit,target,weight,bias,title=\"\"):\n",
        "    # Plot titik\n",
        "    color = {-1:\"r\",1:\"b\"}\n",
        "    sns.scatterplot(x_unit[:,0],x_unit[:,1],hue=target,s=200,legend=\"full\",palette=color)\n",
        "    \n",
        "    # Plot sumbu-x dan sumbu-y\n",
        "    plt.hlines(0,-2,2)\n",
        "    plt.vlines(0,-2,2)\n",
        "    \n",
        "    # Plot persamaan garis\n",
        "    x = np.array([-2,2])\n",
        "    m = -weight[0]/weight[1]\n",
        "    n = -bias/weight[1]\n",
        "    y = m*x + n\n",
        "    plt.plot(x,y,\"g-\")\n",
        "    \n",
        "    plt.title(\"Perceptron \"+title)\n",
        "    plt.legend(title=\"Target\")\n",
        "    plt.xlim([-2,2])\n",
        "    plt.ylim([-2,2])\n",
        "    plt.xticks([])\n",
        "    plt.yticks([])"
      ],
      "execution_count": 4,
      "outputs": []
    },
    {
      "cell_type": "code",
      "metadata": {
        "id": "gdN1B50FFVkX"
      },
      "source": [
        "# Input\n",
        "x1 = np.array([[1,1,-1],\n",
        "                [-1,1,1]])\n",
        "# Target\n",
        "t1 = np.array([1,-1])\n",
        "\n",
        "# Perhitungan bobot dan bias dengan metode perceptron\n",
        "w1,b1 = Perceptron(x1,t1,100)\n",
        "\n",
        "# Prediksi target\n",
        "pred1 = [PredictPerceptron(x,w1,b1) for x in x1]"
      ],
      "execution_count": 5,
      "outputs": []
    },
    {
      "cell_type": "code",
      "metadata": {
        "colab": {
          "base_uri": "https://localhost:8080/"
        },
        "id": "3rsE2zSRFXHh",
        "outputId": "52dcc763-7974-493d-8b41-7da71e4ccae1"
      },
      "source": [
        "for i in range(len(pred1)):\n",
        "    print(\"Input\",x1[i,:],\"\\tmemiliki target:\",t1[i],\"\\thasil prediksi:\",pred1[i])"
      ],
      "execution_count": 6,
      "outputs": [
        {
          "output_type": "stream",
          "text": [
            "Input [ 1  1 -1] \tmemiliki target: 1 \thasil prediksi: 1\n",
            "Input [-1  1  1] \tmemiliki target: -1 \thasil prediksi: -1\n"
          ],
          "name": "stdout"
        }
      ]
    },
    {
      "cell_type": "code",
      "metadata": {
        "colab": {
          "base_uri": "https://localhost:8080/",
          "height": 390
        },
        "id": "U4k-f9THFYhx",
        "outputId": "9c869753-400f-46d2-92ed-33cc904ea728"
      },
      "source": [
        "PlotPerceptron(x1,t1,w1,b1,title=\"NAND\")"
      ],
      "execution_count": 7,
      "outputs": [
        {
          "output_type": "stream",
          "text": [
            "/usr/local/lib/python3.7/dist-packages/seaborn/_decorators.py:43: FutureWarning: Pass the following variables as keyword args: x, y. From version 0.12, the only valid positional argument will be `data`, and passing other arguments without an explicit keyword will result in an error or misinterpretation.\n",
            "  FutureWarning\n",
            "/usr/local/lib/python3.7/dist-packages/ipykernel_launcher.py:12: RuntimeWarning: divide by zero encountered in double_scalars\n",
            "  if sys.path[0] == '':\n",
            "/usr/local/lib/python3.7/dist-packages/ipykernel_launcher.py:13: RuntimeWarning: invalid value encountered in true_divide\n",
            "  del sys.path[0]\n"
          ],
          "name": "stderr"
        },
        {
          "output_type": "display_data",
          "data": {
            "image/png": "[encoded data removed]",
            "text/plain": [
              "<Figure size 432x288 with 1 Axes>"
            ]
          },
          "metadata": {
            "tags": []
          }
        }
      ]
    }
  ]
}